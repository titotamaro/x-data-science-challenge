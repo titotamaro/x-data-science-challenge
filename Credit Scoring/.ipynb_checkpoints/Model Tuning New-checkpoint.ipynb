{
 "cells": [
  {
   "cell_type": "code",
   "execution_count": 3,
   "metadata": {},
   "outputs": [],
   "source": [
    "import pandas as pd\n",
    "import numpy as np\n",
    "import warnings; warnings.filterwarnings('ignore') # Just ignore user warning\n",
    "pd.options.display.max_columns = None\n",
    "\n",
    "datatrain = pd.read_csv('data_train_preprocessed.csv')\n",
    "X = datatrain.drop('flag_kredit_macet', axis=1)\n",
    "y = datatrain['flag_kredit_macet']"
   ]
  },
  {
   "cell_type": "code",
   "execution_count": 4,
   "metadata": {},
   "outputs": [],
   "source": [
    "from sklearn.model_selection import GridSearchCV, RandomizedSearchCV"
   ]
  },
  {
   "cell_type": "code",
   "execution_count": 5,
   "metadata": {},
   "outputs": [],
   "source": [
    "from sklearn.linear_model import LogisticRegression\n",
    "from sklearn.naive_bayes import BernoulliNB\n",
    "from sklearn.tree import DecisionTreeClassifier\n",
    "from sklearn.neighbors import KNeighborsClassifier\n",
    "from sklearn.ensemble import RandomForestClassifier, GradientBoostingClassifier, BaggingClassifier, ExtraTreesClassifier\n",
    "from xgboost import XGBClassifier\n",
    "from lightgbm import LGBMClassifier"
   ]
  },
  {
   "cell_type": "code",
   "execution_count": 6,
   "metadata": {},
   "outputs": [],
   "source": [
    "LR = LogisticRegression(class_weight='balanced', n_jobs=-1, random_state=1, max_iter=10, tol=1e-3)\n",
    "BNB = BernoulliNB()\n",
    "DTC = DecisionTreeClassifier(class_weight='balanced', random_state=1)\n",
    "RFC = RandomForestClassifier(class_weight='balanced', n_jobs=-1 ,random_state=1)\n",
    "GBC = GradientBoostingClassifier(random_state=1)\n",
    "BC = BaggingClassifier(n_jobs=-1, random_state=1)\n",
    "ETC = ExtraTreesClassifier(class_weight='balanced', n_jobs=-1, random_state=1)\n",
    "XGB = XGBClassifier(n_jobs=-1, random_state=1)\n",
    "LGB = LGBMClassifier(class_weight='balanced', n_jobs=-1, random_state=1)"
   ]
  },
  {
   "cell_type": "code",
   "execution_count": 7,
   "metadata": {},
   "outputs": [],
   "source": [
    "PARAM_SEARCH_LR = {'penalty':['l1','l2'], 'C':[1, 0.1, 0.5, 10, 50, 100]}\n",
    "PARAM_SEARCH_BNB = {'alpha':[1, 0.8, 0.5, 0.3, 0]}\n",
    "PARAM_SEARCH_DTC = {'criterion':['gini', 'entropy'], 'max_depth':[None, 5, 10, 25, 50]}\n",
    "PARAM_SEARCH_RFC = {'criterion':['gini', 'entropy'], 'n_estimators':[10, 50, 100, 500]}\n",
    "PARAM_SEARCH_GBC = {'n_estimators':[10, 100, 500], 'max_depth':[3, 5, 10]}\n",
    "PARAM_SEARCH_BC = {'n_estimators':[10, 25, 50, 100, 500]}\n",
    "PARAM_SEARCH_ETC = {'criterion':['gini', 'entropy'], 'max_depth':[None, 5, 10, 25, 50]}\n",
    "PARAM_SEARCH_XGB = {'max_depth':[3, 5, 10], 'learning_rate':[0.1, 0.5, 0.01, 0.05], 'n_estimators':[10, 50, 100]}\n",
    "PARAM_SEARCH_LGB = {'num_leaves':[16, 32, 64], 'max_depth':[-1, 3, 5, 10], 'learning_rate':[0.1, 0.5, 0.01, 0.05], 'n_estimators':[10, 50, 100]}\n",
    "PARAM_SEARCH_NN = {'hidden_layer_sizes':[(16,), (32,), (64,), (128,), (32,8), (32,16), (32,32), (64,16), (64,32), (64,64), (128,32), (128,64), (128,128), (32,32,32), (128,32,32), (128,64,32)], 'alpha':[0,0.0001,0.001,0.01,0.1,1,10]}"
   ]
  },
  {
   "cell_type": "code",
   "execution_count": 8,
   "metadata": {},
   "outputs": [
    {
     "data": {
      "text/plain": [
       "LogisticRegression(C=100, class_weight='balanced', dual=False,\n",
       "          fit_intercept=True, intercept_scaling=1, max_iter=10,\n",
       "          multi_class='warn', n_jobs=-1, penalty='l2', random_state=1,\n",
       "          solver='warn', tol=0.001, verbose=0, warm_start=False)"
      ]
     },
     "execution_count": 8,
     "metadata": {},
     "output_type": "execute_result"
    }
   ],
   "source": [
    "grid_search_LR = GridSearchCV(LR, PARAM_SEARCH_LR, scoring='roc_auc', cv=10, n_jobs=-1).fit(X,y)\n",
    "grid_search_LR.best_estimator_"
   ]
  },
  {
   "cell_type": "code",
   "execution_count": 9,
   "metadata": {},
   "outputs": [
    {
     "data": {
      "text/plain": [
       "BernoulliNB(alpha=1, binarize=0.0, class_prior=None, fit_prior=True)"
      ]
     },
     "execution_count": 9,
     "metadata": {},
     "output_type": "execute_result"
    }
   ],
   "source": [
    "grid_search_BNB = GridSearchCV(BNB, PARAM_SEARCH_BNB, scoring='roc_auc', cv=10, n_jobs=-1).fit(X,y)\n",
    "grid_search_BNB.best_estimator_"
   ]
  },
  {
   "cell_type": "code",
   "execution_count": 10,
   "metadata": {},
   "outputs": [
    {
     "data": {
      "text/plain": [
       "DecisionTreeClassifier(class_weight='balanced', criterion='entropy',\n",
       "            max_depth=5, max_features=None, max_leaf_nodes=None,\n",
       "            min_impurity_decrease=0.0, min_impurity_split=None,\n",
       "            min_samples_leaf=1, min_samples_split=2,\n",
       "            min_weight_fraction_leaf=0.0, presort=False, random_state=1,\n",
       "            splitter='best')"
      ]
     },
     "execution_count": 10,
     "metadata": {},
     "output_type": "execute_result"
    }
   ],
   "source": [
    "grid_search_DTC = GridSearchCV(DTC, PARAM_SEARCH_DTC, scoring='roc_auc', cv=10, n_jobs=-1).fit(X,y)\n",
    "grid_search_DTC.best_estimator_"
   ]
  },
  {
   "cell_type": "code",
   "execution_count": 11,
   "metadata": {},
   "outputs": [
    {
     "data": {
      "text/plain": [
       "RandomForestClassifier(bootstrap=True, class_weight='balanced',\n",
       "            criterion='entropy', max_depth=None, max_features='auto',\n",
       "            max_leaf_nodes=None, min_impurity_decrease=0.0,\n",
       "            min_impurity_split=None, min_samples_leaf=1,\n",
       "            min_samples_split=2, min_weight_fraction_leaf=0.0,\n",
       "            n_estimators=500, n_jobs=-1, oob_score=False, random_state=1,\n",
       "            verbose=0, warm_start=False)"
      ]
     },
     "execution_count": 11,
     "metadata": {},
     "output_type": "execute_result"
    }
   ],
   "source": [
    "grid_search_RFC = GridSearchCV(RFC, PARAM_SEARCH_RFC, scoring='roc_auc', cv=10, n_jobs=-1).fit(X,y)\n",
    "grid_search_RFC.best_estimator_"
   ]
  },
  {
   "cell_type": "code",
   "execution_count": 12,
   "metadata": {},
   "outputs": [
    {
     "data": {
      "text/plain": [
       "GradientBoostingClassifier(criterion='friedman_mse', init=None,\n",
       "              learning_rate=0.1, loss='deviance', max_depth=10,\n",
       "              max_features=None, max_leaf_nodes=None,\n",
       "              min_impurity_decrease=0.0, min_impurity_split=None,\n",
       "              min_samples_leaf=1, min_samples_split=2,\n",
       "              min_weight_fraction_leaf=0.0, n_estimators=100,\n",
       "              n_iter_no_change=None, presort='auto', random_state=1,\n",
       "              subsample=1.0, tol=0.0001, validation_fraction=0.1,\n",
       "              verbose=0, warm_start=False)"
      ]
     },
     "execution_count": 12,
     "metadata": {},
     "output_type": "execute_result"
    }
   ],
   "source": [
    "grid_search_GBC = GridSearchCV(GBC, PARAM_SEARCH_GBC, scoring='roc_auc', cv=10, n_jobs=-1).fit(X,y)\n",
    "grid_search_GBC.best_estimator_"
   ]
  },
  {
   "cell_type": "code",
   "execution_count": 13,
   "metadata": {},
   "outputs": [
    {
     "data": {
      "text/plain": [
       "BaggingClassifier(base_estimator=None, bootstrap=True,\n",
       "         bootstrap_features=False, max_features=1.0, max_samples=1.0,\n",
       "         n_estimators=500, n_jobs=-1, oob_score=False, random_state=1,\n",
       "         verbose=0, warm_start=False)"
      ]
     },
     "execution_count": 13,
     "metadata": {},
     "output_type": "execute_result"
    }
   ],
   "source": [
    "grid_search_BC = GridSearchCV(BC, PARAM_SEARCH_BC, scoring='roc_auc', cv=10, n_jobs=-1).fit(X,y)\n",
    "grid_search_BC.best_estimator_"
   ]
  },
  {
   "cell_type": "code",
   "execution_count": 14,
   "metadata": {},
   "outputs": [
    {
     "data": {
      "text/plain": [
       "ExtraTreesClassifier(bootstrap=False, class_weight='balanced',\n",
       "           criterion='gini', max_depth=25, max_features='auto',\n",
       "           max_leaf_nodes=None, min_impurity_decrease=0.0,\n",
       "           min_impurity_split=None, min_samples_leaf=1,\n",
       "           min_samples_split=2, min_weight_fraction_leaf=0.0,\n",
       "           n_estimators=10, n_jobs=-1, oob_score=False, random_state=1,\n",
       "           verbose=0, warm_start=False)"
      ]
     },
     "execution_count": 14,
     "metadata": {},
     "output_type": "execute_result"
    }
   ],
   "source": [
    "grid_search_ETC = GridSearchCV(ETC, PARAM_SEARCH_ETC, scoring='roc_auc', cv=10, n_jobs=-1).fit(X,y)\n",
    "grid_search_ETC.best_estimator_"
   ]
  },
  {
   "cell_type": "code",
   "execution_count": 15,
   "metadata": {},
   "outputs": [
    {
     "data": {
      "text/plain": [
       "XGBClassifier(base_score=0.5, booster='gbtree', colsample_bylevel=1,\n",
       "       colsample_bytree=1, gamma=0, learning_rate=0.1, max_delta_step=0,\n",
       "       max_depth=10, min_child_weight=1, missing=None, n_estimators=100,\n",
       "       n_jobs=-1, nthread=None, objective='binary:logistic',\n",
       "       random_state=1, reg_alpha=0, reg_lambda=1, scale_pos_weight=1,\n",
       "       seed=None, silent=True, subsample=1)"
      ]
     },
     "execution_count": 15,
     "metadata": {},
     "output_type": "execute_result"
    }
   ],
   "source": [
    "grid_search_XGB = GridSearchCV(XGB, PARAM_SEARCH_XGB, scoring='roc_auc', cv=10, n_jobs=-1).fit(X,y)\n",
    "grid_search_XGB.best_estimator_"
   ]
  },
  {
   "cell_type": "code",
   "execution_count": 16,
   "metadata": {},
   "outputs": [
    {
     "data": {
      "text/plain": [
       "LGBMClassifier(boosting_type='gbdt', class_weight='balanced',\n",
       "        colsample_bytree=1.0, learning_rate=0.05, max_depth=-1,\n",
       "        min_child_samples=20, min_child_weight=0.001, min_split_gain=0.0,\n",
       "        n_estimators=100, n_jobs=-1, num_leaves=32, objective=None,\n",
       "        random_state=1, reg_alpha=0.0, reg_lambda=0.0, silent=True,\n",
       "        subsample=1.0, subsample_for_bin=200000, subsample_freq=1)"
      ]
     },
     "execution_count": 16,
     "metadata": {},
     "output_type": "execute_result"
    }
   ],
   "source": [
    "rand_search_LGB = RandomizedSearchCV(LGB, PARAM_SEARCH_LGB, scoring='roc_auc', cv=10, n_iter=100, random_state=1, n_jobs=-1).fit(X,y)\n",
    "rand_search_LGB.best_estimator_"
   ]
  }
 ],
 "metadata": {
  "kernelspec": {
   "display_name": "Python 3",
   "language": "python",
   "name": "python3"
  },
  "language_info": {
   "codemirror_mode": {
    "name": "ipython",
    "version": 3
   },
   "file_extension": ".py",
   "mimetype": "text/x-python",
   "name": "python",
   "nbconvert_exporter": "python",
   "pygments_lexer": "ipython3",
   "version": "3.6.6"
  }
 },
 "nbformat": 4,
 "nbformat_minor": 2
}
