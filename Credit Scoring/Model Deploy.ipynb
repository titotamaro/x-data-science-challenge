{
 "cells": [
  {
   "cell_type": "code",
   "execution_count": 3,
   "metadata": {},
   "outputs": [],
   "source": [
    "import pandas as pd\n",
    "import numpy as np\n",
    "pd.options.display.max_columns = None\n",
    "\n",
    "datatrain = pd.read_csv('datatrain_complete.csv')\n",
    "datatest_X = pd.read_csv('./data_input/npl_test.csv').X\n",
    "datatest_X = pd.DataFrame(datatest_X, columns=['X'])\n",
    "\n",
    "X = datatrain.drop('flag_kredit_macet', axis=1)\n",
    "Xtest = pd.read_csv('datatest_complete.csv').drop('flag_kredit_macet', axis=1)\n",
    "y = datatrain['flag_kredit_macet']"
   ]
  },
  {
   "cell_type": "markdown",
   "metadata": {},
   "source": [
    "### Using 10 Model as First Stage Model"
   ]
  },
  {
   "cell_type": "code",
   "execution_count": 4,
   "metadata": {},
   "outputs": [],
   "source": [
    "from sklearn.linear_model import LogisticRegression\n",
    "from sklearn.naive_bayes import BernoulliNB\n",
    "from sklearn.tree import DecisionTreeClassifier\n",
    "from sklearn.neighbors import KNeighborsClassifier\n",
    "from sklearn.ensemble import RandomForestClassifier, GradientBoostingClassifier, BaggingClassifier, ExtraTreesClassifier\n",
    "from xgboost import XGBClassifier\n",
    "from lightgbm import LGBMClassifier\n",
    "from sklearn.ensemble import VotingClassifier\n",
    "\n",
    "# LR = LogisticRegression(C=0.1, class_weight='balanced', dual=False,\n",
    "#                         fit_intercept=True, intercept_scaling=1, max_iter=10,multi_class='warn', n_jobs=-1, penalty='l1', random_state=1,\n",
    "#                         solver='warn', tol=0.001, verbose=0, warm_start=False)\n",
    "# BNB = BernoulliNB(alpha=0.3, binarize=0.0, class_prior=None, fit_prior=True)\n",
    "# DTC = DecisionTreeClassifier(class_weight='balanced', criterion='gini', max_depth=5,\n",
    "#                              max_features=None, max_leaf_nodes=None,\n",
    "#                              min_impurity_decrease=0.0, min_impurity_split=None,\n",
    "#                              min_samples_leaf=1, min_samples_split=2,\n",
    "#                              min_weight_fraction_leaf=0.0, presort=False, random_state=1,splitter='best')\n",
    "# KNN = KNeighborsClassifier(n_neighbors=30, weights='distance', p=1, n_jobs=-1)\n",
    "# RFC = RandomForestClassifier(bootstrap=True, class_weight='balanced',\n",
    "#                              criterion='entropy', max_depth=None, max_features='auto',\n",
    "#                              max_leaf_nodes=None, min_impurity_decrease=0.0,\n",
    "#                              min_impurity_split=None, min_samples_leaf=1,\n",
    "#                              min_samples_split=2, min_weight_fraction_leaf=0.0,\n",
    "#                              n_estimators=500, n_jobs=-1, oob_score=False, random_state=1,\n",
    "#                              verbose=0, warm_start=False)\n",
    "# GBC = GradientBoostingClassifier(criterion='friedman_mse', init=None,\n",
    "#                                  learning_rate=0.1, loss='deviance', max_depth=5,\n",
    "#                                  max_features=None, max_leaf_nodes=None,\n",
    "#                                  min_impurity_decrease=0.0, min_impurity_split=None,\n",
    "#                                  min_samples_leaf=1, min_samples_split=2,\n",
    "#                                  min_weight_fraction_leaf=0.0, n_estimators=100,\n",
    "#                                  n_iter_no_change=None, presort='auto', random_state=1,\n",
    "#                                  subsample=1.0, tol=0.0001, validation_fraction=0.1,\n",
    "#                                  verbose=0, warm_start=False)\n",
    "# BC = BaggingClassifier(base_estimator=None, bootstrap=True,\n",
    "#                        bootstrap_features=False, max_features=1.0, max_samples=1.0,\n",
    "#                        n_estimators=500, n_jobs=-1, oob_score=False, random_state=1,\n",
    "#                        verbose=0, warm_start=False)\n",
    "# ETC = ExtraTreesClassifier(bootstrap=False, class_weight='balanced',\n",
    "#                            criterion='entropy', max_depth=10, max_features='auto',\n",
    "#                            max_leaf_nodes=None, min_impurity_decrease=0.0,\n",
    "#                            min_impurity_split=None, min_samples_leaf=1,\n",
    "#                            min_samples_split=2, min_weight_fraction_leaf=0.0,\n",
    "#                            n_estimators=10, n_jobs=-1, oob_score=False, random_state=1,\n",
    "#                            verbose=0, warm_start=False)\n",
    "# XGB = XGBClassifier(base_score=0.5, booster='gbtree', colsample_bylevel=1,\n",
    "#                     colsample_bytree=1, gamma=0, learning_rate=0.05, max_delta_step=0,\n",
    "#                     max_depth=5, min_child_weight=1, missing=None, n_estimators=100,n_jobs=-1, nthread=None, objective='binary:logistic',\n",
    "#                     random_state=1, reg_alpha=0, reg_lambda=1, scale_pos_weight=1,\n",
    "#                     seed=None, silent=True, subsample=1)\n",
    "# LGB = LGBMClassifier(boosting_type='gbdt', class_weight='balanced',\n",
    "#                      colsample_bytree=1.0, learning_rate=0.05, max_depth=10,\n",
    "#                      min_child_samples=20, min_child_weight=0.001, min_split_gain=0.0,\n",
    "#                      n_estimators=50, n_jobs=-1, num_leaves=32, objective=None,random_state=1, reg_alpha=0.0, reg_lambda=0.0, silent=True,\n",
    "#                      subsample=1.0, subsample_for_bin=200000, subsample_freq=1)\n",
    "LR = LogisticRegression(C=100, class_weight='balanced', dual=False,\n",
    "                        fit_intercept=True, intercept_scaling=1, max_iter=10,\n",
    "                        multi_class='warn', n_jobs=-1, penalty='l2', random_state=1,\n",
    "                        solver='warn', tol=0.001, verbose=0, warm_start=False)\n",
    "BNB = BernoulliNB(alpha=1, binarize=0.0, class_prior=None, fit_prior=True)\n",
    "DTC = DecisionTreeClassifier(class_weight='balanced', criterion='entropy',\n",
    "                             max_depth=5, max_features=None, max_leaf_nodes=None,\n",
    "                             min_impurity_decrease=0.0, min_impurity_split=None,\n",
    "                             min_samples_leaf=1, min_samples_split=2,\n",
    "                             min_weight_fraction_leaf=0.0, presort=False, random_state=1,\n",
    "                             splitter='best')\n",
    "KNN = KNeighborsClassifier(n_neighbors=30, weights='distance', p=1, n_jobs=-1)\n",
    "RFC = RandomForestClassifier(bootstrap=True, class_weight='balanced',\n",
    "                             criterion='entropy', max_depth=None, max_features='auto',\n",
    "                             max_leaf_nodes=None, min_impurity_decrease=0.0,\n",
    "                             min_impurity_split=None, min_samples_leaf=1,\n",
    "                             min_samples_split=2, min_weight_fraction_leaf=0.0,\n",
    "                             n_estimators=500, n_jobs=-1, oob_score=False, random_state=1,\n",
    "                             verbose=0, warm_start=False)\n",
    "GBC = GradientBoostingClassifier(criterion='friedman_mse', init=None,\n",
    "                                 learning_rate=0.1, loss='deviance', max_depth=10,\n",
    "                                 max_features=None, max_leaf_nodes=None,\n",
    "                                 min_impurity_decrease=0.0, min_impurity_split=None,\n",
    "                                 min_samples_leaf=1, min_samples_split=2,\n",
    "                                 min_weight_fraction_leaf=0.0, n_estimators=100,\n",
    "                                 n_iter_no_change=None, presort='auto', random_state=1,\n",
    "                                 subsample=1.0, tol=0.0001, validation_fraction=0.1,\n",
    "                                 verbose=0, warm_start=False)\n",
    "BC = BaggingClassifier(base_estimator=None, bootstrap=True,\n",
    "                       bootstrap_features=False, max_features=1.0, max_samples=1.0,\n",
    "                       n_estimators=500, n_jobs=-1, oob_score=False, random_state=1,\n",
    "                       verbose=0, warm_start=False)\n",
    "ETC = ExtraTreesClassifier(bootstrap=False, class_weight='balanced',\n",
    "                           criterion='gini', max_depth=25, max_features='auto',\n",
    "                           max_leaf_nodes=None, min_impurity_decrease=0.0,\n",
    "                           min_impurity_split=None, min_samples_leaf=1,\n",
    "                           min_samples_split=2, min_weight_fraction_leaf=0.0,\n",
    "                           n_estimators=10, n_jobs=-1, oob_score=False, random_state=1,\n",
    "                           verbose=0, warm_start=False)\n",
    "XGB = XGBClassifier(base_score=0.5, booster='gbtree', colsample_bylevel=1,\n",
    "                    colsample_bytree=1, gamma=0, learning_rate=0.1, max_delta_step=0,\n",
    "                    max_depth=10, min_child_weight=1, missing=None, n_estimators=100,\n",
    "                    n_jobs=-1, nthread=None, objective='binary:logistic',\n",
    "                    random_state=1, reg_alpha=0, reg_lambda=1, scale_pos_weight=1,\n",
    "                    seed=None, silent=True, subsample=1)\n",
    "LGB = LGBMClassifier(boosting_type='gbdt', class_weight='balanced',\n",
    "                     colsample_bytree=1.0, learning_rate=0.05, max_depth=-1,\n",
    "                     min_child_samples=20, min_child_weight=0.001, min_split_gain=0.0,\n",
    "                     n_estimators=100, n_jobs=-1, num_leaves=32, objective=None,\n",
    "                     random_state=1, reg_alpha=0.0, reg_lambda=0.0, silent=True,\n",
    "                     subsample=1.0, subsample_for_bin=200000, subsample_freq=1)"
   ]
  },
  {
   "cell_type": "markdown",
   "metadata": {},
   "source": [
    "### Majority Vote Model as Second Stage Model"
   ]
  },
  {
   "cell_type": "code",
   "execution_count": 5,
   "metadata": {},
   "outputs": [],
   "source": [
    "VC = VotingClassifier(estimators=[('LR',LR), ('BNB',BNB), ('DTC',DTC), ('KNN',KNN),\n",
    "                                  ('RFC',RFC), ('GBC',GBC), ('BC',BC), ('ETC',ETC), ('XGB',XGB), ('LGB',LGB)], voting='soft', n_jobs=-1)"
   ]
  },
  {
   "cell_type": "code",
   "execution_count": 6,
   "metadata": {},
   "outputs": [
    {
     "data": {
      "text/plain": [
       "VotingClassifier(estimators=[('LR', LogisticRegression(C=100, class_weight='balanced', dual=False,\n",
       "          fit_intercept=True, intercept_scaling=1, max_iter=10,\n",
       "          multi_class='warn', n_jobs=-1, penalty='l2', random_state=1,\n",
       "          solver='warn', tol=0.001, verbose=0, warm_start=False)), ('BNB', Bernoull...0, reg_lambda=0.0, silent=True,\n",
       "        subsample=1.0, subsample_for_bin=200000, subsample_freq=1))],\n",
       "         flatten_transform=None, n_jobs=-1, voting='soft', weights=None)"
      ]
     },
     "execution_count": 6,
     "metadata": {},
     "output_type": "execute_result"
    }
   ],
   "source": [
    "VC.fit(X,y)"
   ]
  },
  {
   "cell_type": "code",
   "execution_count": 7,
   "metadata": {},
   "outputs": [],
   "source": [
    "prediction = VC.predict(Xtest)\n",
    "probability = VC.predict_proba(Xtest)[:,1]"
   ]
  },
  {
   "cell_type": "code",
   "execution_count": 8,
   "metadata": {},
   "outputs": [],
   "source": [
    "predprob = {'prediction':prediction, 'probability':probability}\n",
    "predprob = pd.DataFrame(predprob)"
   ]
  },
  {
   "cell_type": "code",
   "execution_count": 9,
   "metadata": {},
   "outputs": [],
   "source": [
    "credit_challenge = pd.concat([datatest_X, predprob], axis=1)\n",
    "credit_challenge.to_csv('credit_challenge.csv', index=False)"
   ]
  },
  {
   "cell_type": "code",
   "execution_count": null,
   "metadata": {},
   "outputs": [],
   "source": []
  }
 ],
 "metadata": {
  "kernelspec": {
   "display_name": "Python 3",
   "language": "python",
   "name": "python3"
  },
  "language_info": {
   "codemirror_mode": {
    "name": "ipython",
    "version": 3
   },
   "file_extension": ".py",
   "mimetype": "text/x-python",
   "name": "python",
   "nbconvert_exporter": "python",
   "pygments_lexer": "ipython3",
   "version": "3.6.6"
  }
 },
 "nbformat": 4,
 "nbformat_minor": 2
}
